{
 "cells": [
  {
   "cell_type": "code",
   "execution_count": 1,
   "metadata": {},
   "outputs": [],
   "source": [
    "import pandas as pd"
   ]
  },
  {
   "cell_type": "markdown",
   "metadata": {},
   "source": [
    "# Cleaning datatype: Casting datatypes and handling missing values"
   ]
  },
  {
   "cell_type": "code",
   "execution_count": 4,
   "metadata": {},
   "outputs": [],
   "source": [
    "na_vals = ['NA','Missing']\n",
    "df = pd.read_csv(\"survey_results_public.csv\", index_col='Respondent', na_values=na_vals) \n",
    "schema_df = pd.read_csv(\"survey_results_schema.csv\", index_col='Column')"
   ]
  },
  {
   "cell_type": "markdown",
   "metadata": {},
   "source": [
    "### we want to calculate the average number of coding experience\n"
   ]
  },
  {
   "cell_type": "code",
   "execution_count": 5,
   "metadata": {},
   "outputs": [
    {
     "data": {
      "text/plain": [
       "Respondent\n",
       "1     36\n",
       "2      7\n",
       "3      4\n",
       "4      7\n",
       "5     15\n",
       "6      6\n",
       "7      6\n",
       "8     17\n",
       "9      6\n",
       "10     8\n",
       "Name: YearsCode, dtype: object"
      ]
     },
     "execution_count": 5,
     "metadata": {},
     "output_type": "execute_result"
    }
   ],
   "source": [
    "df['YearsCode'].head(10)"
   ]
  },
  {
   "cell_type": "markdown",
   "metadata": {},
   "source": [
    "### Now finding the mean value"
   ]
  },
  {
   "cell_type": "markdown",
   "metadata": {},
   "source": [
    "### we will get the error runing this as its an object value\n",
    "\n",
    "#df['YearsCode'].mean()"
   ]
  },
  {
   "cell_type": "code",
   "execution_count": 8,
   "metadata": {},
   "outputs": [
    {
     "data": {
      "text/plain": [
       "MainBranch                       object\n",
       "Hobbyist                         object\n",
       "Age                             float64\n",
       "Age1stCode                       object\n",
       "CompFreq                         object\n",
       "CompTotal                       float64\n",
       "ConvertedComp                   float64\n",
       "Country                          object\n",
       "CurrencyDesc                     object\n",
       "CurrencySymbol                   object\n",
       "DatabaseDesireNextYear           object\n",
       "DatabaseWorkedWith               object\n",
       "DevType                          object\n",
       "EdLevel                          object\n",
       "Employment                       object\n",
       "Ethnicity                        object\n",
       "Gender                           object\n",
       "JobFactors                       object\n",
       "JobSat                           object\n",
       "JobSeek                          object\n",
       "LanguageDesireNextYear           object\n",
       "LanguageWorkedWith               object\n",
       "MiscTechDesireNextYear           object\n",
       "MiscTechWorkedWith               object\n",
       "NEWCollabToolsDesireNextYear     object\n",
       "NEWCollabToolsWorkedWith         object\n",
       "NEWDevOps                        object\n",
       "NEWDevOpsImpt                    object\n",
       "NEWEdImpt                        object\n",
       "NEWJobHunt                       object\n",
       "NEWJobHuntResearch               object\n",
       "NEWLearn                         object\n",
       "NEWOffTopic                      object\n",
       "NEWOnboardGood                   object\n",
       "NEWOtherComms                    object\n",
       "NEWOvertime                      object\n",
       "NEWPurchaseResearch              object\n",
       "NEWPurpleLink                    object\n",
       "NEWSOSites                       object\n",
       "NEWStuck                         object\n",
       "OpSys                            object\n",
       "OrgSize                          object\n",
       "PlatformDesireNextYear           object\n",
       "PlatformWorkedWith               object\n",
       "PurchaseWhat                     object\n",
       "Sexuality                        object\n",
       "SOAccount                        object\n",
       "SOComm                           object\n",
       "SOPartFreq                       object\n",
       "SOVisitFreq                      object\n",
       "SurveyEase                       object\n",
       "SurveyLength                     object\n",
       "Trans                            object\n",
       "UndergradMajor                   object\n",
       "WebframeDesireNextYear           object\n",
       "WebframeWorkedWith               object\n",
       "WelcomeChange                    object\n",
       "WorkWeekHrs                     float64\n",
       "YearsCode                        object\n",
       "YearsCodePro                     object\n",
       "dtype: object"
      ]
     },
     "execution_count": 8,
     "metadata": {},
     "output_type": "execute_result"
    }
   ],
   "source": [
    "df.dtypes"
   ]
  },
  {
   "cell_type": "markdown",
   "metadata": {},
   "source": [
    "### Converting YearsCode in float"
   ]
  },
  {
   "cell_type": "markdown",
   "metadata": {},
   "source": [
    "#### we also cant conert this because it contains less than 1 year\n",
    "\n",
    "df['YearsCode']=df['YearsCode'].astype(float)"
   ]
  },
  {
   "cell_type": "code",
   "execution_count": 10,
   "metadata": {},
   "outputs": [
    {
     "data": {
      "text/plain": [
       "array(['36', '7', '4', '15', '6', '17', '8', '10', '35', '5', '37', '19',\n",
       "       '9', '22', '30', '23', '20', '2', 'Less than 1 year', '3', '13',\n",
       "       '25', '16', '43', '11', '38', '33', nan, '24', '21', '12', '40',\n",
       "       '27', '50', '46', '14', '18', '28', '32', '44', '26', '42', '31',\n",
       "       '34', '29', '1', '39', '41', '45', 'More than 50 years', '47',\n",
       "       '49', '48'], dtype=object)"
      ]
     },
     "execution_count": 10,
     "metadata": {},
     "output_type": "execute_result"
    }
   ],
   "source": [
    "#we are checking the unique values in YearsCode\n",
    "df['YearsCode'].unique()"
   ]
  },
  {
   "cell_type": "code",
   "execution_count": 11,
   "metadata": {},
   "outputs": [],
   "source": [
    "# converting less than 1 year into 0\n",
    "df['YearsCode'].replace('Less than 1 year',0, inplace=True)\n",
    "df['YearsCode'].replace('More than 50 years',52, inplace=True)"
   ]
  },
  {
   "cell_type": "code",
   "execution_count": 12,
   "metadata": {},
   "outputs": [],
   "source": [
    "df['YearsCode']=df['YearsCode'].astype(float)"
   ]
  },
  {
   "cell_type": "code",
   "execution_count": 14,
   "metadata": {},
   "outputs": [
    {
     "data": {
      "text/plain": [
       "12.711531793911657"
      ]
     },
     "execution_count": 14,
     "metadata": {},
     "output_type": "execute_result"
    }
   ],
   "source": [
    "df['YearsCode'].mean()"
   ]
  },
  {
   "cell_type": "code",
   "execution_count": 15,
   "metadata": {},
   "outputs": [
    {
     "data": {
      "text/plain": [
       "10.0"
      ]
     },
     "execution_count": 15,
     "metadata": {},
     "output_type": "execute_result"
    }
   ],
   "source": [
    "df['YearsCode'].median()"
   ]
  },
  {
   "cell_type": "code",
   "execution_count": null,
   "metadata": {},
   "outputs": [],
   "source": []
  },
  {
   "cell_type": "code",
   "execution_count": null,
   "metadata": {},
   "outputs": [],
   "source": []
  }
 ],
 "metadata": {
  "kernelspec": {
   "display_name": "Python 3",
   "language": "python",
   "name": "python3"
  },
  "language_info": {
   "codemirror_mode": {
    "name": "ipython",
    "version": 3
   },
   "file_extension": ".py",
   "mimetype": "text/x-python",
   "name": "python",
   "nbconvert_exporter": "python",
   "pygments_lexer": "ipython3",
   "version": "3.9.0"
  }
 },
 "nbformat": 4,
 "nbformat_minor": 4
}
